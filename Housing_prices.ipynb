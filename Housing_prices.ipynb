{
 "cells": [
  {
   "cell_type": "code",
   "execution_count": null,
   "metadata": {
    "id": "ln4oCsLYBeJm"
   },
   "outputs": [],
   "source": [
    "#importing modules\n",
    "import numpy as np\n",
    "import pandas as pd\n",
    "import matplotlib.pyplot as plt\n",
    "import seaborn as sns\n",
    "\n",
    "from sklearn.metrics import mean_squared_error\n",
    "from sklearn.model_selection import train_test_split\n",
    "from sklearn.linear_model import LinearRegression\n",
    "from sklearn.preprocessing import PolynomialFeatures"
   ]
  },
  {
   "cell_type": "code",
   "execution_count": null,
   "metadata": {
    "colab": {
     "base_uri": "https://localhost:8080/"
    },
    "id": "SQ3sTbgVBn4K",
    "outputId": "cddddaaf-f365-4009-ab88-d8d4c0f996cc"
   },
   "outputs": [],
   "source": [
    "#using drive function to link data stored in google drive\n",
    "from google.colab import drive\n",
    "drive.mount('/content/drive')"
   ]
  },
  {
   "cell_type": "code",
   "execution_count": null,
   "metadata": {
    "id": "y_XPJXWlBt9a"
   },
   "outputs": [],
   "source": [
    "data=pd.read_csv(\"/content/drive/MyDrive/Colab Notebooks/Housing prices/housing.csv\")"
   ]
  },
  {
   "cell_type": "code",
   "execution_count": null,
   "metadata": {
    "colab": {
     "base_uri": "https://localhost:8080/",
     "height": 206
    },
    "id": "W_faOeOeDPoe",
    "outputId": "502ccd35-a0ae-452b-fef9-5ec3c0eb266a"
   },
   "outputs": [],
   "source": [
    "data.head()"
   ]
  },
  {
   "cell_type": "code",
   "execution_count": null,
   "metadata": {
    "colab": {
     "base_uri": "https://localhost:8080/"
    },
    "id": "xEspsZ6wB9ED",
    "outputId": "4050f434-1185-4254-cd9b-533a4520a687"
   },
   "outputs": [],
   "source": [
    "data.info()"
   ]
  },
  {
   "cell_type": "code",
   "execution_count": null,
   "metadata": {
    "colab": {
     "base_uri": "https://localhost:8080/"
    },
    "id": "A6kAcDl3Cz3s",
    "outputId": "bdaa1d29-1c36-4bc1-c96c-e4dcdaf47f35"
   },
   "outputs": [],
   "source": [
    "data=data.drop([\"ocean_proximity\"],axis=1)\n",
    "data.info()"
   ]
  },
  {
   "cell_type": "code",
   "execution_count": null,
   "metadata": {
    "colab": {
     "base_uri": "https://localhost:8080/"
    },
    "id": "QX387efpfhJA",
    "outputId": "915963e7-7f87-4093-cc1d-9cabe3e55fd7"
   },
   "outputs": [],
   "source": [
    "#cleaning the data - rather than deleting the rows with null values, I replaced it with interpolation method\n",
    "data['total_bedrooms'] = data['total_bedrooms'].interpolate().astype('float64') \n",
    "#just using interpolate resulted in change in datatype of that particular column\n",
    "data.info()"
   ]
  },
  {
   "cell_type": "code",
   "execution_count": null,
   "metadata": {
    "colab": {
     "base_uri": "https://localhost:8080/",
     "height": 776
    },
    "id": "ud_mymM2exvN",
    "outputId": "5d35cba8-4577-40a7-9f5f-cf5ab329a06d"
   },
   "outputs": [],
   "source": [
    "data.hist(bins=60,figsize=(16,9));plt.show()"
   ]
  },
  {
   "cell_type": "code",
   "execution_count": null,
   "metadata": {
    "colab": {
     "base_uri": "https://localhost:8080/",
     "height": 655
    },
    "id": "J0Suo36U9XcG",
    "outputId": "14077f49-d329-4dd0-b81c-86de9b1c9cd8"
   },
   "outputs": [],
   "source": [
    "#defining correlation matrix in order to find relation b/w each feature with other\n",
    "'''\n",
    "one thing to remember :\n",
    "don't select/deselect features just on basis of correlation matrix,\n",
    "feature knowledge and model performance to be taken care as well\n",
    "'''\n",
    "def corrMat(df,id=False):\n",
    "    \n",
    "    corr_mat = df.corr().round(2)\n",
    "    f, ax = plt.subplots(figsize=(6,6))\n",
    "    mask = np.zeros_like(corr_mat,dtype=bool)\n",
    "    mask[np.triu_indices_from(mask)] = True\n",
    "    sns.heatmap(corr_mat,mask=mask,vmin=-1,vmax=1,center=0, \n",
    "                cmap='plasma',square=False,lw=2,annot=True,cbar=False);plt.show()  \n",
    "corrMat(data)"
   ]
  },
  {
   "cell_type": "code",
   "execution_count": null,
   "metadata": {
    "colab": {
     "base_uri": "https://localhost:8080/",
     "height": 776
    },
    "id": "YpmY-mhl-T77",
    "outputId": "68d3da73-8d84-4de8-bfc5-e7c97a9b0143"
   },
   "outputs": [],
   "source": [
    "#removing outliers in median_house_value & housing_median_age, simply by aquiring the max value of that column and not including it in new dataset\n",
    "max_val=data[\"median_house_value\"].max()\n",
    "new_data=data[data[\"median_house_value\"]!=max_val]\n",
    "\n",
    "max_val=new_data[\"housing_median_age\"].max()\n",
    "new_data=new_data[new_data[\"housing_median_age\"]!=max_val]\n",
    "new_data.hist(bins=120,figsize=(16,9));plt.show()"
   ]
  },
  {
   "cell_type": "code",
   "execution_count": null,
   "metadata": {
    "colab": {
     "base_uri": "https://localhost:8080/",
     "height": 776
    },
    "id": "ogvAwfObFqXs",
    "outputId": "b13fd8e2-d410-4ec2-b7b9-fa3a6a49c403"
   },
   "outputs": [],
   "source": [
    "#adding new data to the dataset for better training of model\n",
    "new_data[\"diag_coordinate\"]=new_data[\"longitude\"]+new_data[\"latitude\"]\n",
    "new_data[\"bedperroom\"]=new_data[\"total_bedrooms\"]/new_data[\"total_rooms\"]\n",
    "new_data.hist(bins=120,figsize=(16,9))\n",
    "plt.show()"
   ]
  },
  {
   "cell_type": "code",
   "execution_count": null,
   "metadata": {
    "colab": {
     "base_uri": "https://localhost:8080/",
     "height": 776
    },
    "id": "dXtzR4ueLo-t",
    "outputId": "f20e7417-fc30-4597-a267-6618cf453b92"
   },
   "outputs": [],
   "source": [
    "#since the above hist graphs for these were leftskewed \n",
    "#and +1 if zero values exits (since log(1) is not defined)\n",
    "new_data[\"total_rooms\"]=np.log(new_data[\"total_rooms\"] +1) \n",
    "new_data[\"total_bedrooms\"]=np.log(new_data[\"total_bedrooms\"] +1)\n",
    "new_data[\"population\"]=np.log(new_data[\"population\"] +1)\n",
    "new_data[\"households\"]=np.log(new_data[\"households\"] +1)\n",
    "new_data[\"bedperroom\"]=np.log(new_data[\"bedperroom\"] +1)\n",
    "\n",
    "new_data.hist(bins=120,figsize=(16,9))\n",
    "plt.show()"
   ]
  },
  {
   "cell_type": "code",
   "execution_count": null,
   "metadata": {
    "id": "iIJcRPB-Qp9I"
   },
   "outputs": [],
   "source": [
    "#separating the data in input and output format\n",
    "X,Y=new_data.drop(['median_house_value'],axis=1) , new_data['median_house_value']"
   ]
  },
  {
   "cell_type": "code",
   "execution_count": null,
   "metadata": {
    "colab": {
     "base_uri": "https://localhost:8080/",
     "height": 206
    },
    "id": "buFUaIWYMZWN",
    "outputId": "e7bae472-bab9-4832-94d8-f0f6ecdaa1f1"
   },
   "outputs": [],
   "source": [
    "#normalizing the input features of dataset\n",
    "x_norm=(X-X.mean())/X.std()\n",
    "x_norm.head()"
   ]
  },
  {
   "cell_type": "code",
   "execution_count": null,
   "metadata": {
    "colab": {
     "base_uri": "https://localhost:8080/"
    },
    "id": "-QwhV9vm_rHM",
    "outputId": "9d88f100-730b-453f-d139-e811c23247d1"
   },
   "outputs": [],
   "source": [
    "Y.head()"
   ]
  },
  {
   "cell_type": "code",
   "execution_count": null,
   "metadata": {
    "colab": {
     "base_uri": "https://localhost:8080/",
     "height": 206
    },
    "id": "DCeC1MLjMlup",
    "outputId": "c62db44c-f6ed-4061-cd7a-10d81792f9c1"
   },
   "outputs": [],
   "source": [
    "#converting pandas series to pandas dataframe\n",
    "y_norm=Y.to_frame()\n",
    "y_norm=(y_norm-y_norm.mean())/y_norm.std()\n",
    "y_norm.head()"
   ]
  },
  {
   "cell_type": "code",
   "execution_count": null,
   "metadata": {
    "id": "SAOOSQCTaQWu"
   },
   "outputs": [],
   "source": [
    "#splitting the dataset into training and testing set\n",
    "x_train,x_test,y_train,y_test=train_test_split(x_norm,y_norm,test_size=0.2,random_state=0)"
   ]
  },
  {
   "cell_type": "code",
   "execution_count": null,
   "metadata": {
    "colab": {
     "base_uri": "https://localhost:8080/"
    },
    "id": "AdFQTWLyNasS",
    "outputId": "4492b78c-306a-43d2-b8f9-eebf799aad1a"
   },
   "outputs": [],
   "source": [
    "#declaring a polynomial model\n",
    "poly_model=PolynomialFeatures(degree=4)\n",
    "poly_x_train=poly_model.fit_transform(x_train)\n",
    "poly_model.fit(poly_x_train,y_train)\n",
    "regression_model=LinearRegression()\n",
    "regression_model.fit(poly_x_train,y_train)\n",
    "\n",
    "#predicting using regression model\n",
    "poly_x_test=poly_model.fit_transform(x_test)\n",
    "y_pred=regression_model.predict(poly_x_test)\n",
    "regression_model.coef_\n",
    "mean_squared_error(y_test,y_pred,squared=False)"
   ]
  },
  {
   "cell_type": "code",
   "execution_count": null,
   "metadata": {
    "colab": {
     "base_uri": "https://localhost:8080/",
     "height": 447
    },
    "id": "_1TYAckqmheK",
    "outputId": "db1bfbcb-17f8-488c-8f82-d7719f3bd00f"
   },
   "outputs": [],
   "source": [
    "#using multiple degree polynomials to check which fits the data the best\n",
    "total_degrees=[1,2,3,4]\n",
    "plt_mean_squared_error=[]\n",
    "\n",
    "for degri in total_degrees:\n",
    "  poly_model=PolynomialFeatures(degree=degri)\n",
    "\n",
    "  poly_x_train=poly_model.fit_transform(x_train)\n",
    "  poly_model.fit(poly_x_train,y_train)\n",
    "\n",
    "  regression_model=LinearRegression()\n",
    "  regression_model.fit(poly_x_train,y_train)\n",
    "  y_pred=regression_model.predict(poly_x_train)\n",
    "  plt_mean_squared_error.append(mean_squared_error(y_train,y_pred,squared=False))\n",
    "\n",
    "plt.scatter(total_degrees,plt_mean_squared_error, color=\"green\")\n",
    "plt.plot(total_degrees,plt_mean_squared_error, color=\"red\")\n",
    "plt.plot()"
   ]
  },
  {
   "cell_type": "code",
   "execution_count": null,
   "metadata": {
    "colab": {
     "base_uri": "https://localhost:8080/"
    },
    "id": "MpOX-QdInXdd",
    "outputId": "817b02d0-23bb-493b-ad4d-d6e67bfe786f"
   },
   "outputs": [],
   "source": [
    "poly_x_test=poly_model.fit_transform(x_test)\n",
    "y_pred=regression_model.predict(poly_x_test)\n",
    "regression_model.coef_\n",
    "mean_squared_error(y_test,y_pred,squared=False)"
   ]
  },
  {
   "cell_type": "code",
   "execution_count": null,
   "metadata": {
    "id": "e84gVLLebgkT"
   },
   "outputs": [],
   "source": [
    "#Fatest_poly=poly_reg.fit_transform(x_test)\n",
    "#(pol_reg.predict(test_poly)-y_test).mean()"
   ]
  },
  {
   "cell_type": "code",
   "execution_count": null,
   "metadata": {
    "id": "pN0o7DGHe2cD"
   },
   "outputs": [],
   "source": [
    "\n"
   ]
  },
  {
   "cell_type": "code",
   "execution_count": null,
   "metadata": {
    "id": "UeD4dWUNgebs"
   },
   "outputs": [],
   "source": [
    "from sklearn.preprocessing import MinMaxScaler\n",
    "import tensorflow as tf\n",
    "from tensorflow import keras\n",
    "from tensorflow.keras.callbacks import EarlyStopping\n",
    "from tensorflow.keras.callbacks import ReduceLROnPlateau\n",
    "from tensorflow.keras import regularizers"
   ]
  },
  {
   "cell_type": "code",
   "execution_count": null,
   "metadata": {
    "id": "yHnb9aa-goQN"
   },
   "outputs": [],
   "source": [
    "# Split data into training and testing sets\n",
    "train_data, test_data, train_labels, test_labels = train_test_split(x_norm,y_norm,test_size=0.2,random_state=0)\n",
    "# Normalize the data\n",
    "scaler = MinMaxScaler()\n",
    "train_data = scaler.fit_transform(train_data)\n",
    "test_data = scaler.transform(test_data)\n"
   ]
  },
  {
   "cell_type": "code",
   "execution_count": null,
   "metadata": {
    "id": "rBy9tnk6g3iS"
   },
   "outputs": [],
   "source": [
    "# Define the neural network architecture\n",
    "model = keras.Sequential([\n",
    "    keras.layers.Dense(256, activation='relu',kernel_regularizer=regularizers.l1(0.001), input_shape=[train_data.shape[1]]),\n",
    "    keras.layers.Dense(256, kernel_regularizer=regularizers.l1(0.001), activation='relu'),\n",
    "    keras.layers.Dense(128, kernel_regularizer=regularizers.l1(0.001), activation='relu'),\n",
    "    keras.layers.Dense(64, kernel_regularizer=regularizers.l1(0.001), activation='relu'),\n",
    "    keras.layers.Dense(1)\n",
    "])\n"
   ]
  },
  {
   "cell_type": "code",
   "execution_count": null,
   "metadata": {
    "id": "8Hg7-DQtg5KK"
   },
   "outputs": [],
   "source": [
    "# Compile the model\n",
    "model.compile(optimizer='adam',\n",
    "              loss='mean_squared_error',\n",
    "              metrics=['mean_absolute_error'])\n"
   ]
  },
  {
   "cell_type": "code",
   "execution_count": null,
   "metadata": {
    "colab": {
     "base_uri": "https://localhost:8080/"
    },
    "id": "PIhseZGNg6jY",
    "outputId": "52e957a4-3960-415c-f6ed-ecab9c6d05dd"
   },
   "outputs": [],
   "source": [
    "# Train the model\n",
    "early_stopping = EarlyStopping(monitor='val_loss', patience=20)\n",
    "lr_scheduler = ReduceLROnPlateau(monitor='val_loss', factor=0.5, patience=5, min_lr=1e-6)\n",
    "\n",
    "history = model.fit(train_data, train_labels,batch_size=64, epochs=500,validation_data=(test_data,test_labels), callbacks=[early_stopping])"
   ]
  },
  {
   "cell_type": "code",
   "execution_count": null,
   "metadata": {
    "id": "asXFwzOgoC9D"
   },
   "outputs": [],
   "source": []
  }
 ],
 "metadata": {
  "colab": {
   "provenance": []
  },
  "kernelspec": {
   "display_name": "Python 3",
   "name": "python3"
  },
  "language_info": {
   "name": "python"
  }
 },
 "nbformat": 4,
 "nbformat_minor": 0
}
